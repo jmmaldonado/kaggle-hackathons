{
 "cells": [
  {
   "cell_type": "code",
   "execution_count": null,
   "metadata": {},
   "outputs": [],
   "source": [
    "# Copyright 2020 Google LLC\n",
    "#\n",
    "# Licensed under the Apache License, Version 2.0 (the \"License\");\n",
    "# you may not use this file except in compliance with the License.\n",
    "# You may obtain a copy of the License at\n",
    "#\n",
    "#     https://www.apache.org/licenses/LICENSE-2.0\n",
    "#\n",
    "# Unless required by applicable law or agreed to in writing, software\n",
    "# distributed under the License is distributed on an \"AS IS\" BASIS,\n",
    "# WITHOUT WARRANTIES OR CONDITIONS OF ANY KIND, either express or implied.\n",
    "# See the License for the specific language governing permissions and\n",
    "# limitations under the License."
   ]
  },
  {
   "cell_type": "markdown",
   "metadata": {},
   "source": [
    "# Kaggle Workshops Starter Notebook [Python version]\n",
    "## FinTech: Predicting defaults on credit loans"
   ]
  },
  {
   "cell_type": "markdown",
   "metadata": {},
   "source": [
    "<table align=\"left\">\n",
    "  <td>\n",
    "    <a href=\"https://console.cloud.google.com/vertex-ai/notebooks/deploy-notebook?name=FinTech%3A%20Credit%20Risk&download_url=https%3A%2F%2Fgist.githubusercontent.com%2Foliviervg1%2Fa8f94d673be2aa7c6cffe384a582c9cc%2Fraw%2Fcredit_risk_bqml_python.ipynb&url=https%3A%2F%2Fgist.github.com%2Foliviervg1%2Fa8f94d673be2aa7c6cffe384a582c9cc\">\n",
    "      <img src=\"https://cloud.google.com/images/products/ai/ai-solutions-icon.svg\" alt=\"Vertex AI Notebooks\">Run on Vertex AI Notebooks</a>\n",
    "  </td>\n",
    "</table>"
   ]
  },
  {
   "cell_type": "markdown",
   "metadata": {},
   "source": [
    "- [Setup BigQuery in Jupyter](#setup)\n",
    "- [BigQuery ML basics](#basics)\n",
    "  - [Select BigQuery data from Python](#select)\n",
    "  - [Train a BigQuery ML model](#train)\n",
    "  - [Check models currently being trained on BigQuery](#currentlytraining)\n",
    "  - [Check if a model has finished training](#finishedtraining)\n",
    "  - [Evaluate a BigQuery ML model](#evaluate)\n",
    "  - [Compare multiple models](#compare)\n",
    "  - [ML.FEATURE_INFO to check input feature information](#featinfo)\n",
    "  - [Make predictions using BigQuery ML](#predictions)\n",
    "  - [Export predictions as a CSV file](#exportcsv)\n",
    "- [Feature engineering](#feateng)\n",
    "  - [EXTRACT: Extract dates and time](#extractdates)\n",
    "  - [REGEXP_EXTRACT_ALL: Extract words from a STRING column](#extractwords)\n",
    "  - [ML.QUANTILE_BUCKETIZE: Bucketize your numeric feature into bins](#bucketize)\n",
    "  - [ML.POLYNOMIAL_EXPAND: Combine numeric features](#polynomialexpand)\n",
    "  - [ML.FEATURE_CROSS: Combine categorical features](#featurecross)\n",
    "- [Feature selection](#featselection)\n",
    "  - [ML.FEATURE_IMPORTANCE for Boosted Tree models](#featimportance)"
   ]
  },
  {
   "cell_type": "markdown",
   "metadata": {},
   "source": [
    "<a id=\"setup\"></a>"
   ]
  },
  {
   "cell_type": "markdown",
   "metadata": {
    "tags": []
   },
   "source": [
    "### Setup BigQuery in Jupyter "
   ]
  },
  {
   "cell_type": "code",
   "execution_count": null,
   "metadata": {},
   "outputs": [],
   "source": [
    "#Check current project\n",
    "GCP_PROJECTS = !gcloud config get-value project\n",
    "PROJECT_ID = GCP_PROJECTS[0]\n",
    "DATASET_ID = \"kaggle\"\n",
    "LOCATION = \"US\"\n",
    "\n",
    "!bq mk --location=$LOCATION $DATASET_ID\n",
    "!pip install google-cloud-bigquery google-cloud-bigquery-storage\n",
    "\n",
    "from google.cloud import bigquery\n",
    "from google.api_core.exceptions import BadRequest\n",
    "import time\n",
    "import pandas as pd\n",
    "pd.set_option('display.max_columns', None)\n",
    "pd.set_option('display.max_colwidth', 200)\n",
    "\n",
    "# Construct a BigQuery client object.\n",
    "client = bigquery.Client()\n",
    "\n",
    "def bq_query(sql, async_flag=False):\n",
    "    \"\"\"\n",
    "    If `async_flag` set to False (default), \n",
    "        returns the query results for `sql` as a Pandas DataFrame, \n",
    "    Else, submits query asynchronously and returns nothing.\n",
    "    \"\"\"\n",
    "    \n",
    "    # Try dry run before executing query to catch any errors\n",
    "    try:\n",
    "        job_config = bigquery.QueryJobConfig(dry_run=True, use_query_cache=False)\n",
    "        dry_run_job = client.query(sql, job_config=job_config)\n",
    "    except BadRequest as err:\n",
    "        print(err)\n",
    "        return\n",
    "        \n",
    "    job_config = bigquery.QueryJobConfig()\n",
    "    df = client.query(sql, job_config=job_config)\n",
    "    \n",
    "    if async_flag:\n",
    "        return f\"Query sent asynchronously for job id: {df.job_id}\"\n",
    "    else:\n",
    "        df = df.result() #wait for query to finish running\n",
    "        return df.to_dataframe()"
   ]
  },
  {
   "cell_type": "markdown",
   "metadata": {},
   "source": [
    "<a id=\"basics\"></a>"
   ]
  },
  {
   "cell_type": "markdown",
   "metadata": {},
   "source": [
    "## BigQuery ML basics"
   ]
  },
  {
   "cell_type": "markdown",
   "metadata": {},
   "source": [
    "<a id=\"select\"></a>"
   ]
  },
  {
   "cell_type": "markdown",
   "metadata": {},
   "source": [
    "#### Select BigQuery data from Python"
   ]
  },
  {
   "cell_type": "code",
   "execution_count": 10,
   "metadata": {},
   "outputs": [
    {
     "data": {
      "text/html": [
       "<div>\n",
       "<style scoped>\n",
       "    .dataframe tbody tr th:only-of-type {\n",
       "        vertical-align: middle;\n",
       "    }\n",
       "\n",
       "    .dataframe tbody tr th {\n",
       "        vertical-align: top;\n",
       "    }\n",
       "\n",
       "    .dataframe thead th {\n",
       "        text-align: right;\n",
       "    }\n",
       "</style>\n",
       "<table border=\"1\" class=\"dataframe\">\n",
       "  <thead>\n",
       "    <tr style=\"text-align: right;\">\n",
       "      <th></th>\n",
       "      <th>id</th>\n",
       "      <th>member_id</th>\n",
       "      <th>loan_amnt</th>\n",
       "      <th>term</th>\n",
       "      <th>int_rate</th>\n",
       "      <th>installment</th>\n",
       "      <th>grade</th>\n",
       "      <th>sub_grade</th>\n",
       "      <th>emp_title</th>\n",
       "      <th>emp_length</th>\n",
       "      <th>home_ownership</th>\n",
       "      <th>annual_inc</th>\n",
       "      <th>verification_status</th>\n",
       "      <th>pymnt_plan</th>\n",
       "      <th>url</th>\n",
       "      <th>purpose</th>\n",
       "      <th>title</th>\n",
       "      <th>zip_code</th>\n",
       "      <th>addr_state</th>\n",
       "      <th>dti</th>\n",
       "      <th>delinq_2yrs</th>\n",
       "      <th>earliest_cr_line</th>\n",
       "      <th>inq_last_6mths</th>\n",
       "      <th>mths_since_last_delinq</th>\n",
       "      <th>mths_since_last_record</th>\n",
       "      <th>open_acc</th>\n",
       "      <th>pub_rec</th>\n",
       "      <th>revol_bal</th>\n",
       "      <th>revol_util</th>\n",
       "      <th>total_acc</th>\n",
       "      <th>initial_list_status</th>\n",
       "      <th>last_credit_pull_d</th>\n",
       "      <th>collections_12_mths_ex_med</th>\n",
       "      <th>policy_code</th>\n",
       "      <th>application_type</th>\n",
       "      <th>acc_now_delinq</th>\n",
       "      <th>description</th>\n",
       "      <th>is_loan_bad</th>\n",
       "    </tr>\n",
       "  </thead>\n",
       "  <tbody>\n",
       "    <tr>\n",
       "      <th>0</th>\n",
       "      <td>6596256</td>\n",
       "      <td>8178412</td>\n",
       "      <td>9600.0</td>\n",
       "      <td>36 months</td>\n",
       "      <td>6.0</td>\n",
       "      <td>304.00</td>\n",
       "      <td>B</td>\n",
       "      <td>B2</td>\n",
       "      <td>NYPD</td>\n",
       "      <td>10+ years</td>\n",
       "      <td>MORTGAGE</td>\n",
       "      <td>120000.0</td>\n",
       "      <td>Source Verified</td>\n",
       "      <td>False</td>\n",
       "      <td>https://www.lendingclub.com/browse/loanDetail.action?loan_id=6596256</td>\n",
       "      <td>debt_consolidation</td>\n",
       "      <td>Debt consolidation</td>\n",
       "      <td>112xx</td>\n",
       "      <td>NY</td>\n",
       "      <td>7.45</td>\n",
       "      <td>1.0</td>\n",
       "      <td>1999-02-01</td>\n",
       "      <td>0.0</td>\n",
       "      <td>19.0</td>\n",
       "      <td>NaN</td>\n",
       "      <td>12.0</td>\n",
       "      <td>0.0</td>\n",
       "      <td>22494.0</td>\n",
       "      <td>74.7</td>\n",
       "      <td>36.0</td>\n",
       "      <td>f</td>\n",
       "      <td>2016-01-01</td>\n",
       "      <td>0.0</td>\n",
       "      <td>1.0</td>\n",
       "      <td>INDIVIDUAL</td>\n",
       "      <td>0.0</td>\n",
       "      <td>Borrower added on 08/05/13 &gt; Loan will be used to payoff credit card balances and to complete some minor home repairs.&lt;br&gt;</td>\n",
       "      <td>0</td>\n",
       "    </tr>\n",
       "    <tr>\n",
       "      <th>1</th>\n",
       "      <td>6909358</td>\n",
       "      <td>8551279</td>\n",
       "      <td>33425.0</td>\n",
       "      <td>60 months</td>\n",
       "      <td>6.0</td>\n",
       "      <td>739.75</td>\n",
       "      <td>D</td>\n",
       "      <td>D5</td>\n",
       "      <td>ARMY</td>\n",
       "      <td>10+ years</td>\n",
       "      <td>MORTGAGE</td>\n",
       "      <td>75000.0</td>\n",
       "      <td>Verified</td>\n",
       "      <td>False</td>\n",
       "      <td>https://www.lendingclub.com/browse/loanDetail.action?loan_id=6909358</td>\n",
       "      <td>home_improvement</td>\n",
       "      <td>Home improvement</td>\n",
       "      <td>060xx</td>\n",
       "      <td>CT</td>\n",
       "      <td>12.90</td>\n",
       "      <td>0.0</td>\n",
       "      <td>2002-01-01</td>\n",
       "      <td>3.0</td>\n",
       "      <td>NaN</td>\n",
       "      <td>94.0</td>\n",
       "      <td>7.0</td>\n",
       "      <td>1.0</td>\n",
       "      <td>8061.0</td>\n",
       "      <td>53.7</td>\n",
       "      <td>34.0</td>\n",
       "      <td>f</td>\n",
       "      <td>2016-01-01</td>\n",
       "      <td>0.0</td>\n",
       "      <td>1.0</td>\n",
       "      <td>INDIVIDUAL</td>\n",
       "      <td>0.0</td>\n",
       "      <td></td>\n",
       "      <td>0</td>\n",
       "    </tr>\n",
       "    <tr>\n",
       "      <th>2</th>\n",
       "      <td>28052191</td>\n",
       "      <td>30565314</td>\n",
       "      <td>10000.0</td>\n",
       "      <td>36 months</td>\n",
       "      <td>6.0</td>\n",
       "      <td>297.50</td>\n",
       "      <td>C</td>\n",
       "      <td>C3</td>\n",
       "      <td>C2 Controller</td>\n",
       "      <td>10+ years</td>\n",
       "      <td>OWN</td>\n",
       "      <td>62263.0</td>\n",
       "      <td>Not Verified</td>\n",
       "      <td>False</td>\n",
       "      <td>https://www.lendingclub.com/browse/loanDetail.action?loan_id=28052191</td>\n",
       "      <td>debt_consolidation</td>\n",
       "      <td>Debt consolidation</td>\n",
       "      <td>320xx</td>\n",
       "      <td>FL</td>\n",
       "      <td>22.65</td>\n",
       "      <td>1.0</td>\n",
       "      <td>1994-12-01</td>\n",
       "      <td>1.0</td>\n",
       "      <td>11.0</td>\n",
       "      <td>NaN</td>\n",
       "      <td>13.0</td>\n",
       "      <td>0.0</td>\n",
       "      <td>13737.0</td>\n",
       "      <td>67.7</td>\n",
       "      <td>22.0</td>\n",
       "      <td>f</td>\n",
       "      <td>2016-01-01</td>\n",
       "      <td>0.0</td>\n",
       "      <td>1.0</td>\n",
       "      <td>INDIVIDUAL</td>\n",
       "      <td>0.0</td>\n",
       "      <td></td>\n",
       "      <td>0</td>\n",
       "    </tr>\n",
       "    <tr>\n",
       "      <th>3</th>\n",
       "      <td>1159466</td>\n",
       "      <td>1400194</td>\n",
       "      <td>5200.0</td>\n",
       "      <td>36 months</td>\n",
       "      <td>6.0</td>\n",
       "      <td>165.07</td>\n",
       "      <td>C</td>\n",
       "      <td>C2</td>\n",
       "      <td>Fidelity Investments</td>\n",
       "      <td>1 year</td>\n",
       "      <td>RENT</td>\n",
       "      <td>38000.0</td>\n",
       "      <td>Source Verified</td>\n",
       "      <td>False</td>\n",
       "      <td>https://www.lendingclub.com/browse/loanDetail.action?loan_id=1159466</td>\n",
       "      <td>credit_card</td>\n",
       "      <td>Consolidation Loan</td>\n",
       "      <td>322xx</td>\n",
       "      <td>FL</td>\n",
       "      <td>15.29</td>\n",
       "      <td>0.0</td>\n",
       "      <td>1989-10-01</td>\n",
       "      <td>0.0</td>\n",
       "      <td>69.0</td>\n",
       "      <td>NaN</td>\n",
       "      <td>9.0</td>\n",
       "      <td>0.0</td>\n",
       "      <td>13000.0</td>\n",
       "      <td>77.0</td>\n",
       "      <td>16.0</td>\n",
       "      <td>f</td>\n",
       "      <td>2014-03-01</td>\n",
       "      <td>0.0</td>\n",
       "      <td>1.0</td>\n",
       "      <td>INDIVIDUAL</td>\n",
       "      <td>0.0</td>\n",
       "      <td></td>\n",
       "      <td>0</td>\n",
       "    </tr>\n",
       "    <tr>\n",
       "      <th>4</th>\n",
       "      <td>29604972</td>\n",
       "      <td>32138192</td>\n",
       "      <td>28000.0</td>\n",
       "      <td>60 months</td>\n",
       "      <td>6.0</td>\n",
       "      <td>533.78</td>\n",
       "      <td>B</td>\n",
       "      <td>B3</td>\n",
       "      <td>Aerospace engineer</td>\n",
       "      <td>6 years</td>\n",
       "      <td>MORTGAGE</td>\n",
       "      <td>100000.0</td>\n",
       "      <td>Verified</td>\n",
       "      <td>False</td>\n",
       "      <td>https://www.lendingclub.com/browse/loanDetail.action?loan_id=29604972</td>\n",
       "      <td>debt_consolidation</td>\n",
       "      <td>Debt consolidation</td>\n",
       "      <td>206xx</td>\n",
       "      <td>MD</td>\n",
       "      <td>27.75</td>\n",
       "      <td>0.0</td>\n",
       "      <td>1989-02-01</td>\n",
       "      <td>0.0</td>\n",
       "      <td>NaN</td>\n",
       "      <td>NaN</td>\n",
       "      <td>11.0</td>\n",
       "      <td>0.0</td>\n",
       "      <td>21700.0</td>\n",
       "      <td>31.3</td>\n",
       "      <td>20.0</td>\n",
       "      <td>w</td>\n",
       "      <td>2016-01-01</td>\n",
       "      <td>0.0</td>\n",
       "      <td>1.0</td>\n",
       "      <td>INDIVIDUAL</td>\n",
       "      <td>0.0</td>\n",
       "      <td></td>\n",
       "      <td>0</td>\n",
       "    </tr>\n",
       "  </tbody>\n",
       "</table>\n",
       "</div>"
      ],
      "text/plain": [
       "         id  member_id  loan_amnt        term  int_rate  installment grade  \\\n",
       "0   6596256    8178412     9600.0   36 months       6.0       304.00     B   \n",
       "1   6909358    8551279    33425.0   60 months       6.0       739.75     D   \n",
       "2  28052191   30565314    10000.0   36 months       6.0       297.50     C   \n",
       "3   1159466    1400194     5200.0   36 months       6.0       165.07     C   \n",
       "4  29604972   32138192    28000.0   60 months       6.0       533.78     B   \n",
       "\n",
       "  sub_grade             emp_title emp_length home_ownership  annual_inc  \\\n",
       "0        B2                  NYPD  10+ years       MORTGAGE    120000.0   \n",
       "1        D5                  ARMY  10+ years       MORTGAGE     75000.0   \n",
       "2        C3         C2 Controller  10+ years            OWN     62263.0   \n",
       "3        C2  Fidelity Investments     1 year           RENT     38000.0   \n",
       "4        B3    Aerospace engineer    6 years       MORTGAGE    100000.0   \n",
       "\n",
       "  verification_status  pymnt_plan  \\\n",
       "0     Source Verified       False   \n",
       "1            Verified       False   \n",
       "2        Not Verified       False   \n",
       "3     Source Verified       False   \n",
       "4            Verified       False   \n",
       "\n",
       "                                                                     url  \\\n",
       "0   https://www.lendingclub.com/browse/loanDetail.action?loan_id=6596256   \n",
       "1   https://www.lendingclub.com/browse/loanDetail.action?loan_id=6909358   \n",
       "2  https://www.lendingclub.com/browse/loanDetail.action?loan_id=28052191   \n",
       "3   https://www.lendingclub.com/browse/loanDetail.action?loan_id=1159466   \n",
       "4  https://www.lendingclub.com/browse/loanDetail.action?loan_id=29604972   \n",
       "\n",
       "              purpose               title zip_code addr_state    dti  \\\n",
       "0  debt_consolidation  Debt consolidation    112xx         NY   7.45   \n",
       "1    home_improvement    Home improvement    060xx         CT  12.90   \n",
       "2  debt_consolidation  Debt consolidation    320xx         FL  22.65   \n",
       "3         credit_card  Consolidation Loan    322xx         FL  15.29   \n",
       "4  debt_consolidation  Debt consolidation    206xx         MD  27.75   \n",
       "\n",
       "   delinq_2yrs earliest_cr_line  inq_last_6mths  mths_since_last_delinq  \\\n",
       "0          1.0       1999-02-01             0.0                    19.0   \n",
       "1          0.0       2002-01-01             3.0                     NaN   \n",
       "2          1.0       1994-12-01             1.0                    11.0   \n",
       "3          0.0       1989-10-01             0.0                    69.0   \n",
       "4          0.0       1989-02-01             0.0                     NaN   \n",
       "\n",
       "   mths_since_last_record  open_acc  pub_rec  revol_bal  revol_util  \\\n",
       "0                     NaN      12.0      0.0    22494.0        74.7   \n",
       "1                    94.0       7.0      1.0     8061.0        53.7   \n",
       "2                     NaN      13.0      0.0    13737.0        67.7   \n",
       "3                     NaN       9.0      0.0    13000.0        77.0   \n",
       "4                     NaN      11.0      0.0    21700.0        31.3   \n",
       "\n",
       "   total_acc initial_list_status last_credit_pull_d  \\\n",
       "0       36.0                   f         2016-01-01   \n",
       "1       34.0                   f         2016-01-01   \n",
       "2       22.0                   f         2016-01-01   \n",
       "3       16.0                   f         2014-03-01   \n",
       "4       20.0                   w         2016-01-01   \n",
       "\n",
       "   collections_12_mths_ex_med  policy_code application_type  acc_now_delinq  \\\n",
       "0                         0.0          1.0       INDIVIDUAL             0.0   \n",
       "1                         0.0          1.0       INDIVIDUAL             0.0   \n",
       "2                         0.0          1.0       INDIVIDUAL             0.0   \n",
       "3                         0.0          1.0       INDIVIDUAL             0.0   \n",
       "4                         0.0          1.0       INDIVIDUAL             0.0   \n",
       "\n",
       "                                                                                                                    description  \\\n",
       "0    Borrower added on 08/05/13 > Loan will be used to payoff credit card balances and to complete some minor home repairs.<br>   \n",
       "1                                                                                                                                 \n",
       "2                                                                                                                                 \n",
       "3                                                                                                                                 \n",
       "4                                                                                                                                 \n",
       "\n",
       "   is_loan_bad  \n",
       "0            0  \n",
       "1            0  \n",
       "2            0  \n",
       "3            0  \n",
       "4            0  "
      ]
     },
     "execution_count": 10,
     "metadata": {},
     "output_type": "execute_result"
    }
   ],
   "source": [
    "sql_select = \"\"\"\n",
    "SELECT \n",
    "  *\n",
    "FROM\n",
    "  kaggleworkshops.credit.train\n",
    "LIMIT 10\n",
    "\"\"\"\n",
    "\n",
    "df = bq_query(sql = sql_select)\n",
    "\n",
    "df.head()"
   ]
  },
  {
   "cell_type": "markdown",
   "metadata": {},
   "source": [
    "<a id=\"train\"></a>"
   ]
  },
  {
   "cell_type": "markdown",
   "metadata": {},
   "source": [
    "#### Train a BigQuery ML model"
   ]
  },
  {
   "cell_type": "code",
   "execution_count": 12,
   "metadata": {},
   "outputs": [
    {
     "data": {
      "text/plain": [
       "'Query sent asynchronously for job id: f21277f7-768b-4652-94d3-d4d8728dbd61'"
      ]
     },
     "execution_count": 12,
     "metadata": {},
     "output_type": "execute_result"
    }
   ],
   "source": [
    "MODEL_NAME = \"is_loan_bad_logreg_testing\"\n",
    "\n",
    "sql_logreg_sample = f\"\"\"\n",
    "CREATE OR REPLACE MODEL `{DATASET_ID}.{MODEL_NAME}`\n",
    "  OPTIONS(\n",
    "    MODEL_TYPE = 'LOGISTIC_REG',\n",
    "    INPUT_LABEL_COLS = ['is_loan_bad'],\n",
    "    AUTO_CLASS_WEIGHTS = TRUE,\n",
    "    ENABLE_GLOBAL_EXPLAIN = TRUE\n",
    "  )\n",
    "AS\n",
    "SELECT *\n",
    "FROM `kaggleworkshops.credit.train`\n",
    "\"\"\"\n",
    "\n",
    "# send asynchronously\n",
    "bq_query(sql = sql_logreg_sample, async_flag=True)"
   ]
  },
  {
   "cell_type": "markdown",
   "metadata": {},
   "source": [
    "Other model types for classification:\n",
    " - [`logistic_reg`](https://cloud.google.com/bigquery-ml/docs/reference/standard-sql/bigqueryml-syntax-create)\n",
    " - [`boosted_tree_classifier`](https://cloud.google.com/bigquery-ml/docs/reference/standard-sql/bigqueryml-syntax-create-boosted-tree)\n",
    " - [`dnn_classifier`](https://cloud.google.com/bigquery-ml/docs/reference/standard-sql/bigqueryml-syntax-create-dnn-models)\n",
    " - [`automl_classifier`](https://cloud.google.com/bigquery-ml/docs/reference/standard-sql/bigqueryml-syntax-create-automl)"
   ]
  },
  {
   "cell_type": "markdown",
   "metadata": {},
   "source": [
    "### Train other classification models"
   ]
  },
  {
   "cell_type": "code",
   "execution_count": 7,
   "metadata": {},
   "outputs": [
    {
     "data": {
      "text/plain": [
       "'Query sent asynchronously for job id: cb424925-6f00-4e73-9f1b-44a205adcd7a'"
      ]
     },
     "execution_count": 7,
     "metadata": {},
     "output_type": "execute_result"
    }
   ],
   "source": [
    "MODEL_NAME = \"is_loan_bad_logreg\"\n",
    "\n",
    "sql_logreg_sample = f\"\"\"\n",
    "CREATE OR REPLACE MODEL `{DATASET_ID}.{MODEL_NAME}`\n",
    "  OPTIONS(\n",
    "    MODEL_TYPE = 'LOGISTIC_REG',\n",
    "    INPUT_LABEL_COLS = ['is_loan_bad'],\n",
    "    AUTO_CLASS_WEIGHTS = TRUE,\n",
    "    ENABLE_GLOBAL_EXPLAIN = TRUE\n",
    "  )\n",
    "AS\n",
    "SELECT loan_amnt, term, annual_inc, is_loan_bad\n",
    "FROM `kaggleworkshops.credit.train`\n",
    "\"\"\"\n",
    "\n",
    "\n",
    "MODEL_NAME = \"is_loan_bad_boostedtree\"\n",
    "\n",
    "sql_boostedtree_sample = f\"\"\"\n",
    "CREATE OR REPLACE MODEL `{DATASET_ID}.{MODEL_NAME}`\n",
    "  OPTIONS(\n",
    "    MODEL_TYPE = 'BOOSTED_TREE_CLASSIFIER',\n",
    "    INPUT_LABEL_COLS = ['is_loan_bad'],\n",
    "    AUTO_CLASS_WEIGHTS = TRUE,\n",
    "    ENABLE_GLOBAL_EXPLAIN = TRUE\n",
    "  )\n",
    "AS\n",
    "SELECT loan_amnt, term, annual_inc, is_loan_bad\n",
    "FROM `kaggleworkshops.credit.train`\n",
    "\"\"\"\n",
    "\n",
    "\n",
    "MODEL_NAME = \"is_loan_bad_dnnclassifier\"\n",
    "\n",
    "sql_dnnclassifier_sample = f\"\"\"\n",
    "CREATE OR REPLACE MODEL `{DATASET_ID}.{MODEL_NAME}`\n",
    "  OPTIONS(\n",
    "    MODEL_TYPE = 'DNN_CLASSIFIER',\n",
    "    INPUT_LABEL_COLS = ['is_loan_bad'],\n",
    "    AUTO_CLASS_WEIGHTS = TRUE,\n",
    "    ENABLE_GLOBAL_EXPLAIN = TRUE\n",
    "  )\n",
    "AS\n",
    "SELECT loan_amnt, term, annual_inc, is_loan_bad\n",
    "FROM `kaggleworkshops.credit.train`\n",
    "\"\"\"\n",
    "\n",
    "\n",
    "MODEL_NAME = \"is_loan_bad_automlclassifier\"\n",
    "\n",
    "sql_automlclassifier_sample = f\"\"\"\n",
    "CREATE OR REPLACE MODEL `{DATASET_ID}.{MODEL_NAME}`\n",
    "  OPTIONS(\n",
    "    MODEL_TYPE = 'AUTOML_CLASSIFIER',\n",
    "    BUDGET_HOURS = 1.0,\n",
    "    INPUT_LABEL_COLS = ['is_loan_bad']\n",
    "  )\n",
    "AS\n",
    "SELECT loan_amnt, term, annual_inc, is_loan_bad\n",
    "FROM `kaggleworkshops.credit.train`\n",
    "\"\"\"\n",
    "\n",
    "# send asynchronously all the models for training\n",
    "bq_query(sql = sql_logreg_sample, async_flag=True)\n",
    "bq_query(sql = sql_boostedtree_sample, async_flag=True)\n",
    "bq_query(sql = sql_dnnclassifier_sample, async_flag=True)\n",
    "bq_query(sql = sql_automlclassifier_sample, async_flag=True)"
   ]
  },
  {
   "cell_type": "markdown",
   "metadata": {},
   "source": [
    "<a id=\"currentlytraining\"></a>"
   ]
  },
  {
   "cell_type": "markdown",
   "metadata": {},
   "source": [
    "#### Check models currently being trained on BigQuery"
   ]
  },
  {
   "cell_type": "markdown",
   "metadata": {},
   "source": [
    "This will check if the models in your project are still undergoing training."
   ]
  },
  {
   "cell_type": "code",
   "execution_count": 13,
   "metadata": {},
   "outputs": [
    {
     "name": "stdout",
     "output_type": "stream",
     "text": [
      "\n",
      "SELECT\n",
      "    job_id,\n",
      "    creation_time,\n",
      "    query,\n",
      "    REGEXP_EXTRACT(query, r'kaggle\\.\\w+') AS modelname\n",
      "FROM `region-us`.INFORMATION_SCHEMA.JOBS_BY_USER\n",
      "WHERE \n",
      "    REGEXP_CONTAINS(LOWER(query), 'create (or replace ){0,1}model')\n",
      "    AND NOT REGEXP_CONTAINS(LOWER(query), 'information_schema')\n",
      "    AND state != \"DONE\"\n",
      "\n",
      "1 models still currently training:\n"
     ]
    },
    {
     "data": {
      "text/html": [
       "<div>\n",
       "<style scoped>\n",
       "    .dataframe tbody tr th:only-of-type {\n",
       "        vertical-align: middle;\n",
       "    }\n",
       "\n",
       "    .dataframe tbody tr th {\n",
       "        vertical-align: top;\n",
       "    }\n",
       "\n",
       "    .dataframe thead th {\n",
       "        text-align: right;\n",
       "    }\n",
       "</style>\n",
       "<table border=\"1\" class=\"dataframe\">\n",
       "  <thead>\n",
       "    <tr style=\"text-align: right;\">\n",
       "      <th></th>\n",
       "      <th>job_id</th>\n",
       "      <th>creation_time</th>\n",
       "      <th>query</th>\n",
       "      <th>modelname</th>\n",
       "    </tr>\n",
       "  </thead>\n",
       "  <tbody>\n",
       "    <tr>\n",
       "      <th>0</th>\n",
       "      <td>cb424925-6f00-4e73-9f1b-44a205adcd7a</td>\n",
       "      <td>2023-05-23 15:57:41.155000+00:00</td>\n",
       "      <td>\\nCREATE OR REPLACE MODEL `kaggle.is_loan_bad_automlclassifier`\\n  OPTIONS(\\n    MODEL_TYPE = 'AUTOML_CLASSIFIER',\\n    BUDGET_HOURS = 1.0,\\n    INPUT_LABEL_COLS = ['is_loan_bad']\\n  )\\nAS\\nSELECT...</td>\n",
       "      <td>kaggle.is_loan_bad_automlclassifier</td>\n",
       "    </tr>\n",
       "  </tbody>\n",
       "</table>\n",
       "</div>"
      ],
      "text/plain": [
       "                                 job_id                    creation_time  \\\n",
       "0  cb424925-6f00-4e73-9f1b-44a205adcd7a 2023-05-23 15:57:41.155000+00:00   \n",
       "\n",
       "                                                                                                                                                                                                     query  \\\n",
       "0  \\nCREATE OR REPLACE MODEL `kaggle.is_loan_bad_automlclassifier`\\n  OPTIONS(\\n    MODEL_TYPE = 'AUTOML_CLASSIFIER',\\n    BUDGET_HOURS = 1.0,\\n    INPUT_LABEL_COLS = ['is_loan_bad']\\n  )\\nAS\\nSELECT...   \n",
       "\n",
       "                             modelname  \n",
       "0  kaggle.is_loan_bad_automlclassifier  "
      ]
     },
     "execution_count": 13,
     "metadata": {},
     "output_type": "execute_result"
    }
   ],
   "source": [
    "sql_currentlyrunningqueries = f\"\"\"\n",
    "SELECT\n",
    "    job_id,\n",
    "    creation_time,\n",
    "    query,\n",
    "    REGEXP_EXTRACT(query, r'{DATASET_ID}\\.\\w+') AS modelname\n",
    "FROM `region-us`.INFORMATION_SCHEMA.JOBS_BY_USER\n",
    "WHERE \n",
    "    REGEXP_CONTAINS(LOWER(query), 'create (or replace ){{0,1}}model')\n",
    "    AND NOT REGEXP_CONTAINS(LOWER(query), 'information_schema')\n",
    "    AND state != \"DONE\"\n",
    "\"\"\"\n",
    "\n",
    "print(sql_currentlyrunningqueries)\n",
    "\n",
    "# send asynchronously\n",
    "models_still_training = bq_query(sql_currentlyrunningqueries)\n",
    "\n",
    "print(f\"{len(models_still_training)} models still currently training:\")\n",
    "models_still_training"
   ]
  },
  {
   "cell_type": "markdown",
   "metadata": {},
   "source": [
    "<a id=\"finishedtraining\"></a>"
   ]
  },
  {
   "cell_type": "markdown",
   "metadata": {},
   "source": [
    "#### Check which models have finished training"
   ]
  },
  {
   "cell_type": "code",
   "execution_count": 14,
   "metadata": {},
   "outputs": [
    {
     "name": "stdout",
     "output_type": "stream",
     "text": [
      "\n",
      "SELECT\n",
      "    job_id,\n",
      "    creation_time,\n",
      "    query,\n",
      "    REGEXP_EXTRACT(query, r'kaggle\\.\\w+') AS modelname\n",
      "FROM `region-us`.INFORMATION_SCHEMA.JOBS_BY_USER\n",
      "WHERE \n",
      "    REGEXP_CONTAINS(LOWER(query), 'create (or replace ){0,1}model')\n",
      "    AND NOT REGEXP_CONTAINS(LOWER(query), 'information_schema')\n",
      "    AND state = \"DONE\"\n",
      "ORDER BY creation_time DESC\n",
      "\n"
     ]
    },
    {
     "data": {
      "text/html": [
       "<div>\n",
       "<style scoped>\n",
       "    .dataframe tbody tr th:only-of-type {\n",
       "        vertical-align: middle;\n",
       "    }\n",
       "\n",
       "    .dataframe tbody tr th {\n",
       "        vertical-align: top;\n",
       "    }\n",
       "\n",
       "    .dataframe thead th {\n",
       "        text-align: right;\n",
       "    }\n",
       "</style>\n",
       "<table border=\"1\" class=\"dataframe\">\n",
       "  <thead>\n",
       "    <tr style=\"text-align: right;\">\n",
       "      <th></th>\n",
       "      <th>job_id</th>\n",
       "      <th>creation_time</th>\n",
       "      <th>query</th>\n",
       "      <th>modelname</th>\n",
       "    </tr>\n",
       "  </thead>\n",
       "  <tbody>\n",
       "    <tr>\n",
       "      <th>0</th>\n",
       "      <td>f21277f7-768b-4652-94d3-d4d8728dbd61</td>\n",
       "      <td>2023-05-23 16:23:53.013000+00:00</td>\n",
       "      <td>\\nCREATE OR REPLACE MODEL `kaggle.is_loan_bad_logreg_testing`\\n  OPTIONS(\\n    MODEL_TYPE = 'LOGISTIC_REG',\\n    INPUT_LABEL_COLS = ['is_loan_bad'],\\n    AUTO_CLASS_WEIGHTS = TRUE,\\n    ENABLE_GLO...</td>\n",
       "      <td>kaggle.is_loan_bad_logreg_testing</td>\n",
       "    </tr>\n",
       "    <tr>\n",
       "      <th>1</th>\n",
       "      <td>d0005466-42b0-4b39-b41d-c3bf4b54701b</td>\n",
       "      <td>2023-05-23 15:57:40.314000+00:00</td>\n",
       "      <td>\\nCREATE OR REPLACE MODEL `kaggle.is_loan_bad_dnnclassifier`\\n  OPTIONS(\\n    MODEL_TYPE = 'DNN_CLASSIFIER',\\n    INPUT_LABEL_COLS = ['is_loan_bad'],\\n    AUTO_CLASS_WEIGHTS = TRUE,\\n    ENABLE_GL...</td>\n",
       "      <td>kaggle.is_loan_bad_dnnclassifier</td>\n",
       "    </tr>\n",
       "    <tr>\n",
       "      <th>2</th>\n",
       "      <td>4e47e2e4-e377-4717-868d-1554ae7a85db</td>\n",
       "      <td>2023-05-23 15:57:39.437000+00:00</td>\n",
       "      <td>\\nCREATE OR REPLACE MODEL `kaggle.is_loan_bad_boostedtree`\\n  OPTIONS(\\n    MODEL_TYPE = 'BOOSTED_TREE_CLASSIFIER',\\n    INPUT_LABEL_COLS = ['is_loan_bad'],\\n    AUTO_CLASS_WEIGHTS = TRUE,\\n    EN...</td>\n",
       "      <td>kaggle.is_loan_bad_boostedtree</td>\n",
       "    </tr>\n",
       "    <tr>\n",
       "      <th>3</th>\n",
       "      <td>b4f11440-e28b-4fbe-9c4d-93907df4e78b</td>\n",
       "      <td>2023-05-23 15:57:38.575000+00:00</td>\n",
       "      <td>\\nCREATE OR REPLACE MODEL `kaggle.is_loan_bad_logreg`\\n  OPTIONS(\\n    MODEL_TYPE = 'LOGISTIC_REG',\\n    INPUT_LABEL_COLS = ['is_loan_bad'],\\n    AUTO_CLASS_WEIGHTS = TRUE,\\n    ENABLE_GLOBAL_EXPL...</td>\n",
       "      <td>kaggle.is_loan_bad_logreg</td>\n",
       "    </tr>\n",
       "    <tr>\n",
       "      <th>4</th>\n",
       "      <td>94f776d9-251d-4d2e-85a8-8390332ce030</td>\n",
       "      <td>2023-05-23 15:48:42.362000+00:00</td>\n",
       "      <td>\\nCREATE OR REPLACE MODEL\\n `kaggle.is_loan_bad_logreg`\\n  OPTIONS(\\n    MODEL_TYPE = 'LOGISTIC_REG',\\n    INPUT_LABEL_COLS = ['is_loan_bad'],\\n    AUTO_CLASS_WEIGHTS = TRUE,\\n    ENABLE_GLOBAL_EX...</td>\n",
       "      <td>kaggle.is_loan_bad_logreg</td>\n",
       "    </tr>\n",
       "  </tbody>\n",
       "</table>\n",
       "</div>"
      ],
      "text/plain": [
       "                                 job_id                    creation_time  \\\n",
       "0  f21277f7-768b-4652-94d3-d4d8728dbd61 2023-05-23 16:23:53.013000+00:00   \n",
       "1  d0005466-42b0-4b39-b41d-c3bf4b54701b 2023-05-23 15:57:40.314000+00:00   \n",
       "2  4e47e2e4-e377-4717-868d-1554ae7a85db 2023-05-23 15:57:39.437000+00:00   \n",
       "3  b4f11440-e28b-4fbe-9c4d-93907df4e78b 2023-05-23 15:57:38.575000+00:00   \n",
       "4  94f776d9-251d-4d2e-85a8-8390332ce030 2023-05-23 15:48:42.362000+00:00   \n",
       "\n",
       "                                                                                                                                                                                                     query  \\\n",
       "0  \\nCREATE OR REPLACE MODEL `kaggle.is_loan_bad_logreg_testing`\\n  OPTIONS(\\n    MODEL_TYPE = 'LOGISTIC_REG',\\n    INPUT_LABEL_COLS = ['is_loan_bad'],\\n    AUTO_CLASS_WEIGHTS = TRUE,\\n    ENABLE_GLO...   \n",
       "1  \\nCREATE OR REPLACE MODEL `kaggle.is_loan_bad_dnnclassifier`\\n  OPTIONS(\\n    MODEL_TYPE = 'DNN_CLASSIFIER',\\n    INPUT_LABEL_COLS = ['is_loan_bad'],\\n    AUTO_CLASS_WEIGHTS = TRUE,\\n    ENABLE_GL...   \n",
       "2  \\nCREATE OR REPLACE MODEL `kaggle.is_loan_bad_boostedtree`\\n  OPTIONS(\\n    MODEL_TYPE = 'BOOSTED_TREE_CLASSIFIER',\\n    INPUT_LABEL_COLS = ['is_loan_bad'],\\n    AUTO_CLASS_WEIGHTS = TRUE,\\n    EN...   \n",
       "3  \\nCREATE OR REPLACE MODEL `kaggle.is_loan_bad_logreg`\\n  OPTIONS(\\n    MODEL_TYPE = 'LOGISTIC_REG',\\n    INPUT_LABEL_COLS = ['is_loan_bad'],\\n    AUTO_CLASS_WEIGHTS = TRUE,\\n    ENABLE_GLOBAL_EXPL...   \n",
       "4  \\nCREATE OR REPLACE MODEL\\n `kaggle.is_loan_bad_logreg`\\n  OPTIONS(\\n    MODEL_TYPE = 'LOGISTIC_REG',\\n    INPUT_LABEL_COLS = ['is_loan_bad'],\\n    AUTO_CLASS_WEIGHTS = TRUE,\\n    ENABLE_GLOBAL_EX...   \n",
       "\n",
       "                           modelname  \n",
       "0  kaggle.is_loan_bad_logreg_testing  \n",
       "1   kaggle.is_loan_bad_dnnclassifier  \n",
       "2     kaggle.is_loan_bad_boostedtree  \n",
       "3          kaggle.is_loan_bad_logreg  \n",
       "4          kaggle.is_loan_bad_logreg  "
      ]
     },
     "execution_count": 14,
     "metadata": {},
     "output_type": "execute_result"
    }
   ],
   "source": [
    "sql_finished_queries = f\"\"\"\n",
    "SELECT\n",
    "    job_id,\n",
    "    creation_time,\n",
    "    query,\n",
    "    REGEXP_EXTRACT(query, r'{DATASET_ID}\\.\\w+') AS modelname\n",
    "FROM `region-us`.INFORMATION_SCHEMA.JOBS_BY_USER\n",
    "WHERE \n",
    "    REGEXP_CONTAINS(LOWER(query), 'create (or replace ){{0,1}}model')\n",
    "    AND NOT REGEXP_CONTAINS(LOWER(query), 'information_schema')\n",
    "    AND state = \"DONE\"\n",
    "ORDER BY creation_time DESC\n",
    "\"\"\"\n",
    "\n",
    "print(sql_finished_queries)\n",
    "\n",
    "finished_models = bq_query(sql_finished_queries)\n",
    "finished_models.head()"
   ]
  },
  {
   "cell_type": "markdown",
   "metadata": {},
   "source": [
    "<a id=\"evaluate\"></a>"
   ]
  },
  {
   "cell_type": "markdown",
   "metadata": {},
   "source": [
    "#### Evaluate a BigQuery ML model"
   ]
  },
  {
   "cell_type": "code",
   "execution_count": null,
   "metadata": {},
   "outputs": [],
   "source": [
    "MODEL_NAME = \"is_loan_bad_classifier\"\n",
    "\n",
    "sql_logreg_sample = f\"\"\"\n",
    "SELECT \n",
    "  *\n",
    "FROM\n",
    "  ML.EVALUATE(\n",
    "      MODEL {DATASET_ID}.{MODEL_NAME})\n",
    "\"\"\"\n",
    "\n",
    "print(sql_logreg_sample)\n",
    "\n",
    "bq_query(sql = sql_logreg_sample)"
   ]
  },
  {
   "cell_type": "markdown",
   "metadata": {},
   "source": [
    "<a id=\"compare\"></a>"
   ]
  },
  {
   "cell_type": "markdown",
   "metadata": {},
   "source": [
    "### Compare multiple models"
   ]
  },
  {
   "cell_type": "code",
   "execution_count": 11,
   "metadata": {},
   "outputs": [
    {
     "name": "stdout",
     "output_type": "stream",
     "text": [
      "SELECT \n",
      "  'is_loan_bad_logreg' as modelname, \n",
      "  * \n",
      "FROM \n",
      "  ML.EVALUATE(MODEL kaggle.is_loan_bad_logreg)\n",
      "\n",
      "UNION ALL\n",
      "\n",
      "SELECT \n",
      "  'is_loan_bad_boostedtree' as modelname, \n",
      "  * \n",
      "FROM \n",
      "  ML.EVALUATE(MODEL kaggle.is_loan_bad_boostedtree)\n",
      "\n",
      "UNION ALL\n",
      "\n",
      "SELECT \n",
      "  'is_loan_bad_dnnclassifier' as modelname, \n",
      "  * \n",
      "FROM \n",
      "  ML.EVALUATE(MODEL kaggle.is_loan_bad_dnnclassifier)\n"
     ]
    },
    {
     "data": {
      "text/html": [
       "<div>\n",
       "<style scoped>\n",
       "    .dataframe tbody tr th:only-of-type {\n",
       "        vertical-align: middle;\n",
       "    }\n",
       "\n",
       "    .dataframe tbody tr th {\n",
       "        vertical-align: top;\n",
       "    }\n",
       "\n",
       "    .dataframe thead th {\n",
       "        text-align: right;\n",
       "    }\n",
       "</style>\n",
       "<table border=\"1\" class=\"dataframe\">\n",
       "  <thead>\n",
       "    <tr style=\"text-align: right;\">\n",
       "      <th></th>\n",
       "      <th>modelname</th>\n",
       "      <th>precision</th>\n",
       "      <th>recall</th>\n",
       "      <th>accuracy</th>\n",
       "      <th>f1_score</th>\n",
       "      <th>log_loss</th>\n",
       "      <th>roc_auc</th>\n",
       "    </tr>\n",
       "  </thead>\n",
       "  <tbody>\n",
       "    <tr>\n",
       "      <th>0</th>\n",
       "      <td>is_loan_bad_logreg</td>\n",
       "      <td>0.058943</td>\n",
       "      <td>0.584677</td>\n",
       "      <td>0.516690</td>\n",
       "      <td>0.107090</td>\n",
       "      <td>0.692907</td>\n",
       "      <td>0.568540</td>\n",
       "    </tr>\n",
       "    <tr>\n",
       "      <th>1</th>\n",
       "      <td>is_loan_bad_boostedtree</td>\n",
       "      <td>0.060009</td>\n",
       "      <td>0.522177</td>\n",
       "      <td>0.570857</td>\n",
       "      <td>0.107648</td>\n",
       "      <td>0.679225</td>\n",
       "      <td>0.570111</td>\n",
       "    </tr>\n",
       "    <tr>\n",
       "      <th>2</th>\n",
       "      <td>is_loan_bad_dnnclassifier</td>\n",
       "      <td>0.054823</td>\n",
       "      <td>0.862903</td>\n",
       "      <td>0.255747</td>\n",
       "      <td>0.103095</td>\n",
       "      <td>0.811455</td>\n",
       "      <td>0.585059</td>\n",
       "    </tr>\n",
       "  </tbody>\n",
       "</table>\n",
       "</div>"
      ],
      "text/plain": [
       "                   modelname  precision    recall  accuracy  f1_score  \\\n",
       "0         is_loan_bad_logreg   0.058943  0.584677  0.516690  0.107090   \n",
       "1    is_loan_bad_boostedtree   0.060009  0.522177  0.570857  0.107648   \n",
       "2  is_loan_bad_dnnclassifier   0.054823  0.862903  0.255747  0.103095   \n",
       "\n",
       "   log_loss   roc_auc  \n",
       "0  0.692907  0.568540  \n",
       "1  0.679225  0.570111  \n",
       "2  0.811455  0.585059  "
      ]
     },
     "execution_count": 11,
     "metadata": {},
     "output_type": "execute_result"
    }
   ],
   "source": [
    "MODEL_LIST = [\"is_loan_bad_logreg\", \n",
    "              \"is_loan_bad_boostedtree\", \n",
    "              \"is_loan_bad_dnnclassifier\"] #change or add models here\n",
    "\n",
    "sql_modeleval_list = [f\"SELECT \\n  '{modelname}' as modelname, \\n  * \\nFROM \\n  ML.EVALUATE(MODEL {DATASET_ID}.{modelname})\"\n",
    "                      for modelname \n",
    "                      in MODEL_LIST]\n",
    "\n",
    "sql_compare_evaluation = \"\\n\\nUNION ALL\\n\\n\".join(sql_modeleval_list)\n",
    "\n",
    "print(sql_compare_evaluation)\n",
    "\n",
    "bq_query(sql_compare_evaluation)"
   ]
  },
  {
   "cell_type": "markdown",
   "metadata": {},
   "source": [
    "<a id=\"featinfo\"></a>"
   ]
  },
  {
   "cell_type": "markdown",
   "metadata": {},
   "source": [
    "### ML.FEATURE_INFO to check input feature information"
   ]
  },
  {
   "cell_type": "markdown",
   "metadata": {},
   "source": [
    "The ML.FEATURE_INFO function allows you to see information about the input features used to train a model. [ML.FEATURE_INFO Documentation](https://cloud.google.com/bigquery-ml/docs/reference/standard-sql/bigqueryml-syntax-feature)"
   ]
  },
  {
   "cell_type": "code",
   "execution_count": 16,
   "metadata": {},
   "outputs": [
    {
     "data": {
      "text/html": [
       "<div>\n",
       "<style scoped>\n",
       "    .dataframe tbody tr th:only-of-type {\n",
       "        vertical-align: middle;\n",
       "    }\n",
       "\n",
       "    .dataframe tbody tr th {\n",
       "        vertical-align: top;\n",
       "    }\n",
       "\n",
       "    .dataframe thead th {\n",
       "        text-align: right;\n",
       "    }\n",
       "</style>\n",
       "<table border=\"1\" class=\"dataframe\">\n",
       "  <thead>\n",
       "    <tr style=\"text-align: right;\">\n",
       "      <th></th>\n",
       "      <th>input</th>\n",
       "      <th>min</th>\n",
       "      <th>max</th>\n",
       "      <th>mean</th>\n",
       "      <th>median</th>\n",
       "      <th>stddev</th>\n",
       "      <th>category_count</th>\n",
       "      <th>null_count</th>\n",
       "      <th>dimension</th>\n",
       "    </tr>\n",
       "  </thead>\n",
       "  <tbody>\n",
       "    <tr>\n",
       "      <th>0</th>\n",
       "      <td>loan_amnt</td>\n",
       "      <td>500.0</td>\n",
       "      <td>35000.0</td>\n",
       "      <td>14776.772466</td>\n",
       "      <td>13000.0</td>\n",
       "      <td>8436.092665</td>\n",
       "      <td>&lt;NA&gt;</td>\n",
       "      <td>0</td>\n",
       "      <td>&lt;NA&gt;</td>\n",
       "    </tr>\n",
       "    <tr>\n",
       "      <th>1</th>\n",
       "      <td>term</td>\n",
       "      <td>NaN</td>\n",
       "      <td>NaN</td>\n",
       "      <td>NaN</td>\n",
       "      <td>NaN</td>\n",
       "      <td>NaN</td>\n",
       "      <td>2</td>\n",
       "      <td>0</td>\n",
       "      <td>&lt;NA&gt;</td>\n",
       "    </tr>\n",
       "    <tr>\n",
       "      <th>2</th>\n",
       "      <td>annual_inc</td>\n",
       "      <td>0.0</td>\n",
       "      <td>9500000.0</td>\n",
       "      <td>75068.504810</td>\n",
       "      <td>64000.0</td>\n",
       "      <td>64500.194718</td>\n",
       "      <td>&lt;NA&gt;</td>\n",
       "      <td>0</td>\n",
       "      <td>&lt;NA&gt;</td>\n",
       "    </tr>\n",
       "  </tbody>\n",
       "</table>\n",
       "</div>"
      ],
      "text/plain": [
       "        input    min        max          mean   median        stddev  \\\n",
       "0   loan_amnt  500.0    35000.0  14776.772466  13000.0   8436.092665   \n",
       "1        term    NaN        NaN           NaN      NaN           NaN   \n",
       "2  annual_inc    0.0  9500000.0  75068.504810  64000.0  64500.194718   \n",
       "\n",
       "   category_count  null_count  dimension  \n",
       "0            <NA>           0       <NA>  \n",
       "1               2           0       <NA>  \n",
       "2            <NA>           0       <NA>  "
      ]
     },
     "execution_count": 16,
     "metadata": {},
     "output_type": "execute_result"
    }
   ],
   "source": [
    "MODEL_NAME = \"is_loan_bad_logreg\"\n",
    "\n",
    "sql_featureinfo = f\"\"\"\n",
    "SELECT\n",
    "    *\n",
    "FROM\n",
    "    ML.FEATURE_INFO(MODEL {DATASET_ID}.{MODEL_NAME})\n",
    "\"\"\"\n",
    "\n",
    "bq_query(sql_featureinfo)"
   ]
  },
  {
   "cell_type": "markdown",
   "metadata": {},
   "source": [
    "<a id=\"predictions\"></a>"
   ]
  },
  {
   "cell_type": "markdown",
   "metadata": {},
   "source": [
    "### Make predictions using BigQuery ML"
   ]
  },
  {
   "cell_type": "code",
   "execution_count": 23,
   "metadata": {},
   "outputs": [
    {
     "name": "stdout",
     "output_type": "stream",
     "text": [
      "\n",
      "SELECT\n",
      "  id, \n",
      "  prob as is_loan_bad\n",
      "FROM\n",
      "  ML.PREDICT(MODEL kaggle.is_loan_bad_logreg_testing,\n",
      "    (\n",
      "    SELECT \n",
      "      *\n",
      "    FROM\n",
      "    `kaggleworkshops.credit.test`\n",
      "  )),\n",
      "UNNEST(predicted_is_loan_bad_probs)\n",
      "WHERE label = 1\n",
      "\n"
     ]
    },
    {
     "data": {
      "text/html": [
       "<div>\n",
       "<style scoped>\n",
       "    .dataframe tbody tr th:only-of-type {\n",
       "        vertical-align: middle;\n",
       "    }\n",
       "\n",
       "    .dataframe tbody tr th {\n",
       "        vertical-align: top;\n",
       "    }\n",
       "\n",
       "    .dataframe thead th {\n",
       "        text-align: right;\n",
       "    }\n",
       "</style>\n",
       "<table border=\"1\" class=\"dataframe\">\n",
       "  <thead>\n",
       "    <tr style=\"text-align: right;\">\n",
       "      <th></th>\n",
       "      <th>id</th>\n",
       "      <th>is_loan_bad</th>\n",
       "    </tr>\n",
       "  </thead>\n",
       "  <tbody>\n",
       "    <tr>\n",
       "      <th>0</th>\n",
       "      <td>636596</td>\n",
       "      <td>0.140912</td>\n",
       "    </tr>\n",
       "    <tr>\n",
       "      <th>1</th>\n",
       "      <td>14578118</td>\n",
       "      <td>0.040747</td>\n",
       "    </tr>\n",
       "    <tr>\n",
       "      <th>2</th>\n",
       "      <td>16942425</td>\n",
       "      <td>0.062967</td>\n",
       "    </tr>\n",
       "    <tr>\n",
       "      <th>3</th>\n",
       "      <td>18624654</td>\n",
       "      <td>0.042251</td>\n",
       "    </tr>\n",
       "    <tr>\n",
       "      <th>4</th>\n",
       "      <td>49096339</td>\n",
       "      <td>0.031957</td>\n",
       "    </tr>\n",
       "  </tbody>\n",
       "</table>\n",
       "</div>"
      ],
      "text/plain": [
       "         id  is_loan_bad\n",
       "0    636596     0.140912\n",
       "1  14578118     0.040747\n",
       "2  16942425     0.062967\n",
       "3  18624654     0.042251\n",
       "4  49096339     0.031957"
      ]
     },
     "execution_count": 23,
     "metadata": {},
     "output_type": "execute_result"
    }
   ],
   "source": [
    "MODEL_NAME = \"is_loan_bad_logreg_testing\"\n",
    "\n",
    "sql_predict = f\"\"\"\n",
    "SELECT\n",
    "  id, \n",
    "  prob as is_loan_bad\n",
    "FROM\n",
    "  ML.PREDICT(MODEL {DATASET_ID}.{MODEL_NAME},\n",
    "    (\n",
    "    SELECT \n",
    "      *\n",
    "    FROM\n",
    "    `kaggleworkshops.credit.test`\n",
    "  )),\n",
    "UNNEST(predicted_is_loan_bad_probs)\n",
    "WHERE label = 1\n",
    "\"\"\"\n",
    "\n",
    "print(sql_predict)\n",
    "\n",
    "submission = bq_query(sql_predict)\n",
    "submission.head()"
   ]
  },
  {
   "cell_type": "markdown",
   "metadata": {},
   "source": [
    "<a id=\"exportcsv\"></a>"
   ]
  },
  {
   "cell_type": "markdown",
   "metadata": {},
   "source": [
    "### Export predictions for Kaggle as a CSV file"
   ]
  },
  {
   "cell_type": "code",
   "execution_count": 24,
   "metadata": {},
   "outputs": [],
   "source": [
    "#MODEL_NAME = \"is_loan_bad_classifier\"\n",
    "\n",
    "#save as CSV\n",
    "submission.to_csv(f\"submission_{MODEL_NAME}.csv\", index=False)"
   ]
  },
  {
   "cell_type": "markdown",
   "metadata": {},
   "source": [
    "The predictions are now saved to a CSV file. To download the file to your computer, locate your file in the left-menu in JupyterLab, right-click on it and click \"Download\". You can now make a submission to the Kaggle competition with the file."
   ]
  },
  {
   "cell_type": "markdown",
   "metadata": {},
   "source": [
    "<hr><a id=\"feateng\"></a>"
   ]
  },
  {
   "cell_type": "markdown",
   "metadata": {},
   "source": [
    "## Preprocessing Functions in BigQuery ML\n",
    "You can use [TRANSFORM()](https://cloud.google.com/bigquery-ml/docs/bigqueryml-transform) with any standard SQL function or any ML [preprocessing function](https://cloud.google.com/bigquery-ml/docs/reference/standard-sql/bigqueryml-preprocessing-functions). Some examples are shown below:"
   ]
  },
  {
   "cell_type": "markdown",
   "metadata": {},
   "source": [
    "<a id=\"extractdates\"></a>"
   ]
  },
  {
   "cell_type": "markdown",
   "metadata": {},
   "source": [
    "#### EXTRACT: Extract dates and time"
   ]
  },
  {
   "cell_type": "markdown",
   "metadata": {},
   "source": [
    "[EXTRACT from DATE documentation](https://cloud.google.com/bigquery/docs/reference/standard-sql/date_functions#extract)  \n",
    "[EXTRACT from TIMESTAMP documentation](https://cloud.google.com/bigquery/docs/reference/standard-sql/timestamp_functions#extract)"
   ]
  },
  {
   "cell_type": "code",
   "execution_count": 19,
   "metadata": {},
   "outputs": [
    {
     "data": {
      "text/html": [
       "<div>\n",
       "<style scoped>\n",
       "    .dataframe tbody tr th:only-of-type {\n",
       "        vertical-align: middle;\n",
       "    }\n",
       "\n",
       "    .dataframe tbody tr th {\n",
       "        vertical-align: top;\n",
       "    }\n",
       "\n",
       "    .dataframe thead th {\n",
       "        text-align: right;\n",
       "    }\n",
       "</style>\n",
       "<table border=\"1\" class=\"dataframe\">\n",
       "  <thead>\n",
       "    <tr style=\"text-align: right;\">\n",
       "      <th></th>\n",
       "      <th>earliest_cr_line</th>\n",
       "      <th>year</th>\n",
       "      <th>month</th>\n",
       "      <th>dayofweek</th>\n",
       "      <th>day</th>\n",
       "    </tr>\n",
       "  </thead>\n",
       "  <tbody>\n",
       "    <tr>\n",
       "      <th>0</th>\n",
       "      <td>1999-02-01</td>\n",
       "      <td>1999</td>\n",
       "      <td>2</td>\n",
       "      <td>2</td>\n",
       "      <td>1</td>\n",
       "    </tr>\n",
       "    <tr>\n",
       "      <th>1</th>\n",
       "      <td>2002-01-01</td>\n",
       "      <td>2002</td>\n",
       "      <td>1</td>\n",
       "      <td>3</td>\n",
       "      <td>1</td>\n",
       "    </tr>\n",
       "    <tr>\n",
       "      <th>2</th>\n",
       "      <td>1994-12-01</td>\n",
       "      <td>1994</td>\n",
       "      <td>12</td>\n",
       "      <td>5</td>\n",
       "      <td>1</td>\n",
       "    </tr>\n",
       "    <tr>\n",
       "      <th>3</th>\n",
       "      <td>1989-10-01</td>\n",
       "      <td>1989</td>\n",
       "      <td>10</td>\n",
       "      <td>1</td>\n",
       "      <td>1</td>\n",
       "    </tr>\n",
       "    <tr>\n",
       "      <th>4</th>\n",
       "      <td>1989-02-01</td>\n",
       "      <td>1989</td>\n",
       "      <td>2</td>\n",
       "      <td>4</td>\n",
       "      <td>1</td>\n",
       "    </tr>\n",
       "    <tr>\n",
       "      <th>5</th>\n",
       "      <td>2003-10-01</td>\n",
       "      <td>2003</td>\n",
       "      <td>10</td>\n",
       "      <td>4</td>\n",
       "      <td>1</td>\n",
       "    </tr>\n",
       "    <tr>\n",
       "      <th>6</th>\n",
       "      <td>2003-02-01</td>\n",
       "      <td>2003</td>\n",
       "      <td>2</td>\n",
       "      <td>7</td>\n",
       "      <td>1</td>\n",
       "    </tr>\n",
       "    <tr>\n",
       "      <th>7</th>\n",
       "      <td>2001-10-01</td>\n",
       "      <td>2001</td>\n",
       "      <td>10</td>\n",
       "      <td>2</td>\n",
       "      <td>1</td>\n",
       "    </tr>\n",
       "    <tr>\n",
       "      <th>8</th>\n",
       "      <td>2000-05-01</td>\n",
       "      <td>2000</td>\n",
       "      <td>5</td>\n",
       "      <td>2</td>\n",
       "      <td>1</td>\n",
       "    </tr>\n",
       "    <tr>\n",
       "      <th>9</th>\n",
       "      <td>2004-10-01</td>\n",
       "      <td>2004</td>\n",
       "      <td>10</td>\n",
       "      <td>6</td>\n",
       "      <td>1</td>\n",
       "    </tr>\n",
       "  </tbody>\n",
       "</table>\n",
       "</div>"
      ],
      "text/plain": [
       "  earliest_cr_line  year  month  dayofweek  day\n",
       "0       1999-02-01  1999      2          2    1\n",
       "1       2002-01-01  2002      1          3    1\n",
       "2       1994-12-01  1994     12          5    1\n",
       "3       1989-10-01  1989     10          1    1\n",
       "4       1989-02-01  1989      2          4    1\n",
       "5       2003-10-01  2003     10          4    1\n",
       "6       2003-02-01  2003      2          7    1\n",
       "7       2001-10-01  2001     10          2    1\n",
       "8       2000-05-01  2000      5          2    1\n",
       "9       2004-10-01  2004     10          6    1"
      ]
     },
     "execution_count": 19,
     "metadata": {},
     "output_type": "execute_result"
    }
   ],
   "source": [
    "sql_datetime = \"\"\"\n",
    "    SELECT\n",
    "        earliest_cr_line,\n",
    "        EXTRACT( year FROM earliest_cr_line) AS year,\n",
    "        EXTRACT( month FROM earliest_cr_line) AS month,\n",
    "        EXTRACT( dayofweek FROM earliest_cr_line) AS dayofweek,\n",
    "        EXTRACT( day FROM earliest_cr_line) AS day,\n",
    "    FROM\n",
    "        kaggleworkshops.credit.train\n",
    "    LIMIT 10\n",
    "    \"\"\"\n",
    "\n",
    "bq_query(sql_datetime)"
   ]
  },
  {
   "cell_type": "markdown",
   "metadata": {},
   "source": [
    "#### ML.QUANTILE_BUCKETIZE: Bucketize your numeric feature into bins\n",
    "[ML.QUANTILE_BUCKETIZE Documentation](https://cloud.google.com/bigquery-ml/docs/reference/standard-sql/bigqueryml-preprocessing-functions#quantile_bucketize)"
   ]
  },
  {
   "cell_type": "code",
   "execution_count": null,
   "metadata": {},
   "outputs": [],
   "source": [
    "sql_bucketize = \"\"\"\n",
    "SELECT \n",
    "    loan_amnt,\n",
    "    ML.QUANTILE_BUCKETIZE(\n",
    "      loan_amnt,\n",
    "      100 # number of buckets\n",
    "    ) OVER() AS bucket_funded_amnt,\n",
    "FROM\n",
    "    kaggleworkshops.credit.train\n",
    "LIMIT 10\n",
    "\"\"\"\n",
    "\n",
    "bq_query(sql_bucketize)"
   ]
  },
  {
   "cell_type": "markdown",
   "metadata": {},
   "source": [
    "<a id=\"polynomialexpand\"></a>"
   ]
  },
  {
   "cell_type": "markdown",
   "metadata": {},
   "source": [
    "#### ML.POLYNOMIAL_EXPAND: Combine numeric features"
   ]
  },
  {
   "cell_type": "markdown",
   "metadata": {},
   "source": [
    "[ML.POLYNOMIAL_EXPAND Documentation](https://cloud.google.com/bigquery-ml/docs/reference/standard-sql/bigqueryml-preprocessing-functions#mlpolynomial_expand)"
   ]
  },
  {
   "cell_type": "code",
   "execution_count": null,
   "metadata": {},
   "outputs": [],
   "source": [
    "sql_polynomialexpand = \"\"\"\n",
    "SELECT\n",
    "    loan_amnt,\n",
    "    int_rate,\n",
    "    ML.POLYNOMIAL_EXPAND(\n",
    "      STRUCT(loan_amnt, int_rate), \n",
    "      2\n",
    "    ) AS x\n",
    "FROM\n",
    "    kaggleworkshops.credit.train\n",
    "LIMIT 3\n",
    "\"\"\"\n",
    "\n",
    "bq_query(sql_polynomialexpand)"
   ]
  },
  {
   "cell_type": "markdown",
   "metadata": {},
   "source": [
    "<a id=\"featurecross\"></a>"
   ]
  },
  {
   "cell_type": "markdown",
   "metadata": {},
   "source": [
    "#### ML.FEATURE_CROSS: Combine categorical features\n",
    "\n",
    "[ML.FEATURE_CROSS Documentation](https://cloud.google.com/bigquery-ml/docs/reference/standard-sql/bigqueryml-preprocessing-functions#mlfeature_cross)"
   ]
  },
  {
   "cell_type": "code",
   "execution_count": null,
   "metadata": {},
   "outputs": [],
   "source": [
    "sql_featurecross = \"\"\"\n",
    "SELECT\n",
    "    grade,\n",
    "    sub_grade,\n",
    "    ML.FEATURE_CROSS(\n",
    "      STRUCT(grade, sub_grade), \n",
    "      2\n",
    "    ) AS x\n",
    "FROM\n",
    "    kaggleworkshops.credit.train\n",
    "LIMIT 3\n",
    "\"\"\"\n",
    "\n",
    "bq_query(sql_featurecross)"
   ]
  },
  {
   "cell_type": "markdown",
   "metadata": {},
   "source": [
    "<a id=\"featselection\"></a>\n",
    "<hr>"
   ]
  },
  {
   "cell_type": "markdown",
   "metadata": {},
   "source": [
    "## Feature Selection"
   ]
  },
  {
   "cell_type": "markdown",
   "metadata": {},
   "source": [
    "<a id=\"featimportance\"></a>"
   ]
  },
  {
   "cell_type": "markdown",
   "metadata": {},
   "source": [
    "### ML.FEATURE_IMPORTANCE for Boosted Tree models"
   ]
  },
  {
   "cell_type": "markdown",
   "metadata": {},
   "source": [
    "_Note: This function is only available for Boosted Tree models (`boosted_tree_classifier` or `boosted_tree_regressor`)._\n",
    "\n",
    "The ML.FEATURE_IMPORTANCE function allows you to see feature importance score, which indicates how useful or valuable each feature was in the construction of the Boosted Tree model during training. [ML.FEATURE_IMPORTANCE Documentation](https://cloud.google.com/bigquery-ml/docs/reference/standard-sql/bigqueryml-syntax-importance#mlfeature_importance_function)"
   ]
  },
  {
   "cell_type": "code",
   "execution_count": 20,
   "metadata": {},
   "outputs": [
    {
     "data": {
      "text/html": [
       "<div>\n",
       "<style scoped>\n",
       "    .dataframe tbody tr th:only-of-type {\n",
       "        vertical-align: middle;\n",
       "    }\n",
       "\n",
       "    .dataframe tbody tr th {\n",
       "        vertical-align: top;\n",
       "    }\n",
       "\n",
       "    .dataframe thead th {\n",
       "        text-align: right;\n",
       "    }\n",
       "</style>\n",
       "<table border=\"1\" class=\"dataframe\">\n",
       "  <thead>\n",
       "    <tr style=\"text-align: right;\">\n",
       "      <th></th>\n",
       "      <th>feature</th>\n",
       "      <th>importance_weight</th>\n",
       "      <th>importance_gain</th>\n",
       "      <th>importance_cover</th>\n",
       "    </tr>\n",
       "  </thead>\n",
       "  <tbody>\n",
       "    <tr>\n",
       "      <th>0</th>\n",
       "      <td>loan_amnt</td>\n",
       "      <td>132</td>\n",
       "      <td>43.583129</td>\n",
       "      <td>13326.868847</td>\n",
       "    </tr>\n",
       "    <tr>\n",
       "      <th>1</th>\n",
       "      <td>term</td>\n",
       "      <td>8</td>\n",
       "      <td>570.292665</td>\n",
       "      <td>107962.585950</td>\n",
       "    </tr>\n",
       "    <tr>\n",
       "      <th>2</th>\n",
       "      <td>annual_inc</td>\n",
       "      <td>102</td>\n",
       "      <td>131.404976</td>\n",
       "      <td>25057.820083</td>\n",
       "    </tr>\n",
       "  </tbody>\n",
       "</table>\n",
       "</div>"
      ],
      "text/plain": [
       "      feature  importance_weight  importance_gain  importance_cover\n",
       "0   loan_amnt                132        43.583129      13326.868847\n",
       "1        term                  8       570.292665     107962.585950\n",
       "2  annual_inc                102       131.404976      25057.820083"
      ]
     },
     "execution_count": 20,
     "metadata": {},
     "output_type": "execute_result"
    }
   ],
   "source": [
    "MODEL_NAME = \"is_loan_bad_boostedtree\"\n",
    "\n",
    "sql_featureimportance = f\"\"\"\n",
    "SELECT\n",
    "    *\n",
    "FROM\n",
    "    ML.FEATURE_IMPORTANCE(MODEL {DATASET_ID}.{MODEL_NAME})\n",
    "\"\"\"\n",
    "\n",
    "bq_query(sql_featureimportance)"
   ]
  },
  {
   "cell_type": "code",
   "execution_count": null,
   "metadata": {},
   "outputs": [],
   "source": []
  }
 ],
 "metadata": {
  "environment": {
   "kernel": "python3",
   "name": "tf2-gpu.2-11.m108",
   "type": "gcloud",
   "uri": "gcr.io/deeplearning-platform-release/tf2-gpu.2-11:m108"
  },
  "kernelspec": {
   "display_name": "Python 3 (ipykernel)",
   "language": "python",
   "name": "python3"
  },
  "language_info": {
   "codemirror_mode": {
    "name": "ipython",
    "version": 3
   },
   "file_extension": ".py",
   "mimetype": "text/x-python",
   "name": "python",
   "nbconvert_exporter": "python",
   "pygments_lexer": "ipython3",
   "version": "3.10.10"
  },
  "toc-autonumbering": false,
  "toc-showcode": false,
  "toc-showmarkdowntxt": false,
  "toc-showtags": false
 },
 "nbformat": 4,
 "nbformat_minor": 4
}
